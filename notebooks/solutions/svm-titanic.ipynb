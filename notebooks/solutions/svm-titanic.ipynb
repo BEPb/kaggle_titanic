{
 "cells": [
  {
   "cell_type": "code",
   "execution_count": 1,
   "id": "a92583f3",
   "metadata": {
    "_cell_guid": "b1076dfc-b9ad-4769-8c92-a6c4dae69d19",
    "_uuid": "8f2839f25d086af736a60e9eeb907d3b93b6e0e5",
    "execution": {
     "iopub.execute_input": "2023-01-06T20:07:01.541758Z",
     "iopub.status.busy": "2023-01-06T20:07:01.540363Z",
     "iopub.status.idle": "2023-01-06T20:07:03.617362Z",
     "shell.execute_reply": "2023-01-06T20:07:03.615722Z"
    },
    "papermill": {
     "duration": 2.084752,
     "end_time": "2023-01-06T20:07:03.620594",
     "exception": false,
     "start_time": "2023-01-06T20:07:01.535842",
     "status": "completed"
    },
    "tags": []
   },
   "outputs": [
    {
     "name": "stdout",
     "output_type": "stream",
     "text": [
      "Best parameters for SVM:  {'C': 1}\n",
      "Accuracy:  0.8435754189944135\n",
      "Accuracy of SVM classifier:  0.8216389244558258\n"
     ]
    }
   ],
   "source": [
    "import pandas as pd\n",
    "from sklearn.ensemble import GradientBoostingClassifier\n",
    "from sklearn.model_selection import train_test_split, cross_val_score, GridSearchCV\n",
    "from sklearn.metrics import accuracy_score\n",
    "from sklearn.linear_model import LogisticRegression\n",
    "from sklearn.svm import SVC\n",
    "from sklearn.ensemble import VotingClassifier\n",
    "from sklearn.impute import SimpleImputer\n",
    "from sklearn.preprocessing import StandardScaler\n",
    "\n",
    "# Read in the training and test sets\n",
    "train_df = pd.read_csv('/kaggle/input/titanic/train.csv')\n",
    "test_df = pd.read_csv('/kaggle/input/titanic/test.csv')\n",
    "\n",
    "###################################### Preprocess the data ###################################################################\n",
    "# Identify most relevant features\n",
    "# You can use techniques like feature importance or correlation analysis to help you identify the most important features\n",
    "relevant_features = ['Pclass', 'Sex', 'Age', 'SibSp', 'Parch', 'Fare', 'Embarked']\n",
    "\n",
    "# Handle missing values\n",
    "imputer = SimpleImputer(strategy='most_frequent')\n",
    "train_df[relevant_features] = imputer.fit_transform(train_df[relevant_features])\n",
    "test_df[relevant_features] = imputer.transform(test_df[relevant_features])\n",
    "\n",
    "# Encode categorical variables as numeric\n",
    "train_df['Sex'] = train_df['Sex'].map({'male': 0, 'female': 1})\n",
    "test_df['Sex'] = test_df['Sex'].map({'male': 0, 'female': 1})\n",
    "train_df['Embarked'] = train_df['Embarked'].map({'S': 0, 'C': 1, 'Q': 2})\n",
    "test_df['Embarked'] = test_df['Embarked'].map({'S': 0, 'C': 1, 'Q': 2})\n",
    "\n",
    "# Transform skewed or non-normal features\n",
    "# Instead of normalizing all of the numeric features, you could try using techniques like log transformation or Box-Cox transformation to make the distribution of a feature more normal\n",
    "scaler = StandardScaler()\n",
    "train_df[relevant_features] = scaler.fit_transform(train_df[relevant_features])\n",
    "test_df[relevant_features] = scaler.transform(test_df[relevant_features])\n",
    "\n",
    "# Split the data into features (X) and labels (y)\n",
    "X_train = train_df[relevant_features]\n",
    "y_train = train_df['Survived']\n",
    "X_test = test_df[relevant_features]\n",
    "\n",
    "# Split the data into training and validation sets\n",
    "X_train, X_val, y_train, y_val = train_test_split(X_train, y_train, test_size=0.2, random_state=33)\n",
    "\n",
    "\n",
    "############################################## Train the model ################################################################\n",
    "svm = SVC()\n",
    "\n",
    "model = VotingClassifier(estimators=[('svm', svm)])\n",
    "model.fit(X_train, y_train)\n",
    "\n",
    "\n",
    "param_grid = {'C': [0.1, 1, 10]}\n",
    "grid_search = GridSearchCV(svm, param_grid, cv=5)\n",
    "grid_search.fit(X_train, y_train)\n",
    "best_svm = grid_search.best_estimator_\n",
    "print(\"Best parameters for SVM: \", grid_search.best_params_)\n",
    "\n",
    "model = VotingClassifier(estimators=[('svm', best_svm)])\n",
    "model.fit(X_train, y_train)\n",
    "\n",
    "# Evaluate the fine-tuned model\n",
    "y_pred = model.predict(X_val)\n",
    "accuracy = accuracy_score(y_val, y_pred)\n",
    "print(\"Accuracy: \", accuracy)\n",
    "\n",
    "\n",
    "# Evaluate the SVM classifier\n",
    "scores = cross_val_score(svm, X_train, y_train, cv=5)\n",
    "print(\"Accuracy of SVM classifier: \", scores.mean())\n",
    "\n",
    "\n",
    "# Make predictions on the test set\n",
    "y_pred = model.predict(X_test)\n",
    "\n",
    "# Save the predictions to a CSV file\n",
    "output = pd.DataFrame({'PassengerId': test_df['PassengerId'], 'Survived': y_pred})\n",
    "output.to_csv('submission.csv', index=False)\n"
   ]
  }
 ],
 "metadata": {
  "kernelspec": {
   "display_name": "Python 3",
   "language": "python",
   "name": "python3"
  },
  "language_info": {
   "codemirror_mode": {
    "name": "ipython",
    "version": 3
   },
   "file_extension": ".py",
   "mimetype": "text/x-python",
   "name": "python",
   "nbconvert_exporter": "python",
   "pygments_lexer": "ipython3",
   "version": "3.7.12"
  },
  "papermill": {
   "default_parameters": {},
   "duration": 12.184119,
   "end_time": "2023-01-06T20:07:04.445861",
   "environment_variables": {},
   "exception": null,
   "input_path": "__notebook__.ipynb",
   "output_path": "__notebook__.ipynb",
   "parameters": {},
   "start_time": "2023-01-06T20:06:52.261742",
   "version": "2.3.4"
  }
 },
 "nbformat": 4,
 "nbformat_minor": 5
}
