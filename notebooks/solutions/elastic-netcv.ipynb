{
 "cells": [
  {
   "cell_type": "markdown",
   "id": "e0cf2f22",
   "metadata": {
    "papermill": {
     "duration": 0.002334,
     "end_time": "2023-01-08T19:33:33.932456",
     "exception": false,
     "start_time": "2023-01-08T19:33:33.930122",
     "status": "completed"
    },
    "tags": []
   },
   "source": [
    "![](https://i.postimg.cc/nMbJLmwc/Screenshot-3.png)"
   ]
  },
  {
   "cell_type": "code",
   "execution_count": 1,
   "id": "c4b5f6ea",
   "metadata": {
    "_cell_guid": "b1076dfc-b9ad-4769-8c92-a6c4dae69d19",
    "_uuid": "8f2839f25d086af736a60e9eeb907d3b93b6e0e5",
    "execution": {
     "iopub.execute_input": "2023-01-08T19:33:33.939381Z",
     "iopub.status.busy": "2023-01-08T19:33:33.938095Z",
     "iopub.status.idle": "2023-01-08T19:33:35.440375Z",
     "shell.execute_reply": "2023-01-08T19:33:35.439183Z"
    },
    "papermill": {
     "duration": 1.509496,
     "end_time": "2023-01-08T19:33:35.443646",
     "exception": false,
     "start_time": "2023-01-08T19:33:33.934150",
     "status": "completed"
    },
    "tags": []
   },
   "outputs": [
    {
     "name": "stdout",
     "output_type": "stream",
     "text": [
      "Accuracy of linear regression classifier:  0.37667479947307847\n",
      "Correlation with ideal submission: 0.22053917049306343\n",
      "Real score on submission: 0.65071\n",
      "Coefficients: \n",
      " [-0.13689524  0.23856316 -0.07960439 -0.04624161 -0.01403884  0.03414413\n",
      "  0.018363  ]\n"
     ]
    },
    {
     "data": {
      "image/png": "[encoded data removed]",
      "text/plain": [
       "<Figure size 432x288 with 1 Axes>"
      ]
     },
     "metadata": {},
     "output_type": "display_data"
    }
   ],
   "source": [
    "\"\"\"\n",
    "Python 3.10 Elastic_NetCV program with pre-processing of cagle titanic competition data\n",
    "File name: Elastic_NetCV.py\n",
    "\n",
    "Version: 0.1\n",
    "Author: Andrej Marinchenko\n",
    "Date: 2023-01-08\n",
    "\"\"\"\n",
    "\n",
    "import pandas as pd\n",
    "from sklearn.model_selection import train_test_split, cross_val_score\n",
    "from sklearn import linear_model\n",
    "from sklearn.impute import SimpleImputer\n",
    "from sklearn.preprocessing import StandardScaler\n",
    "from sklearn.metrics import mean_squared_error, r2_score\n",
    "import matplotlib.pyplot as plt\n",
    "\n",
    "# Read in the training and test sets\n",
    "train_df = pd.read_csv('/kaggle/input/titanic/train.csv')\n",
    "# print(len(train_df))\n",
    "test_df = pd.read_csv('/kaggle/input/titanic/test.csv')\n",
    "# print(len(test_df))\n",
    "result_df = pd.read_csv('/kaggle/input/titanic-competition-how-top-lb-got-their-score/submission.csv')   # 100% result\n",
    "# print(len(result_df))\n",
    "\n",
    "###################################### Preprocess the data #############################################################\n",
    "# Identify most relevant features\n",
    "# You can use techniques like feature importance or correlation analysis to help you identify the most important features\n",
    "relevant_features = ['Pclass', 'Sex', 'Age', 'SibSp', 'Parch', 'Fare', 'Embarked']\n",
    "\n",
    "# Handle missing values\n",
    "imputer = SimpleImputer(strategy='most_frequent')\n",
    "train_df[relevant_features] = imputer.fit_transform(train_df[relevant_features])\n",
    "test_df[relevant_features] = imputer.transform(test_df[relevant_features])\n",
    "\n",
    "# Encode categorical variables as numeric\n",
    "train_df['Sex'] = train_df['Sex'].map({'male': 0, 'female': 1})\n",
    "test_df['Sex'] = test_df['Sex'].map({'male': 0, 'female': 1})\n",
    "train_df['Embarked'] = train_df['Embarked'].map({'S': 0, 'C': 1, 'Q': 2})\n",
    "test_df['Embarked'] = test_df['Embarked'].map({'S': 0, 'C': 1, 'Q': 2})\n",
    "\n",
    "# Transform skewed or non-normal features\n",
    "# Instead of normalizing all of the numeric features, you could try using techniques like log transformation or\n",
    "# Box-Cox transformation to make the distribution of a feature more normal\n",
    "scaler = StandardScaler()\n",
    "train_df[relevant_features] = scaler.fit_transform(train_df[relevant_features])\n",
    "test_df[relevant_features] = scaler.transform(test_df[relevant_features])\n",
    "\n",
    "# Split the data into features (X) and labels (y)\n",
    "X_train = train_df[relevant_features]\n",
    "y_train = train_df['Survived']\n",
    "X_test = test_df[relevant_features]\n",
    "\n",
    "# Split the data into training and validation sets\n",
    "X_train, X_val, y_train, y_val = train_test_split(X_train, y_train, test_size=0.2, random_state=33)\n",
    "\n",
    "\n",
    "############################################## Train the model #########################################################\n",
    "model = linear_model.ElasticNetCV()\n",
    "model.fit(X_train, y_train)\n",
    "\n",
    "# Evaluate the logistic regression classifier\n",
    "scores = cross_val_score(model, X_val, y_val, cv=5)\n",
    "print(\"Accuracy of linear regression classifier: \", scores.mean())\n",
    "\n",
    "# Make predictions on the test set\n",
    "y_pred = model.predict(X_test)\n",
    "\n",
    "# Save the predictions to a CSV file\n",
    "output = pd.DataFrame({'PassengerId': test_df['PassengerId'], 'Survived': y_pred})\n",
    "output['Survived']= output['Survived'].astype(int)\n",
    "output.to_csv('submission.csv', index=False)\n",
    "\n",
    "# print(output)\n",
    "print('Correlation with ideal submission:', output['Survived'].corr(result_df['Survived']))\n",
    "print('Real score on submission: 0.65071')\n",
    "\n",
    "\n",
    "# The coefficients\n",
    "print(\"Coefficients: \\n\",  model.coef_)\n",
    "\n",
    "# Plot outputs\n",
    "# plt.scatter(X_test, y_test, color=\"black\")\n",
    "plt.plot(X_test, y_pred, color=\"blue\", linewidth=3)\n",
    "\n",
    "plt.xticks(())\n",
    "plt.yticks(())\n",
    "\n",
    "plt.show()"
   ]
  },
  {
   "cell_type": "markdown",
   "id": "3cf218cb",
   "metadata": {
    "papermill": {
     "duration": 0.002406,
     "end_time": "2023-01-08T19:33:35.448881",
     "exception": false,
     "start_time": "2023-01-08T19:33:35.446475",
     "status": "completed"
    },
    "tags": []
   },
   "source": [
    "### If you liked this core, you can also check out my other [works](https://www.kaggle.com/marinchenko/notebooks) and [databases](https://www.kaggle.com/marinchenko/datasets).\n",
    "#### I am looking for friends to develop as a machine learning specialist. \n",
    "#### Open to dialogue and criticism. \n",
    "### Thank you for your time!"
   ]
  }
 ],
 "metadata": {
  "kernelspec": {
   "display_name": "Python 3",
   "language": "python",
   "name": "python3"
  },
  "language_info": {
   "codemirror_mode": {
    "name": "ipython",
    "version": 3
   },
   "file_extension": ".py",
   "mimetype": "text/x-python",
   "name": "python",
   "nbconvert_exporter": "python",
   "pygments_lexer": "ipython3",
   "version": "3.7.12"
  },
  "papermill": {
   "default_parameters": {},
   "duration": 9.475034,
   "end_time": "2023-01-08T19:33:36.174971",
   "environment_variables": {},
   "exception": null,
   "input_path": "__notebook__.ipynb",
   "output_path": "__notebook__.ipynb",
   "parameters": {},
   "start_time": "2023-01-08T19:33:26.699937",
   "version": "2.3.4"
  }
 },
 "nbformat": 4,
 "nbformat_minor": 5
}
