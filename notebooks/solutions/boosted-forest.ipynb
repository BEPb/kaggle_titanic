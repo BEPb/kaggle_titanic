{
 "cells": [
  {
   "cell_type": "code",
   "execution_count": 1,
   "id": "10ef8199",
   "metadata": {
    "_cell_guid": "b1076dfc-b9ad-4769-8c92-a6c4dae69d19",
    "_uuid": "8f2839f25d086af736a60e9eeb907d3b93b6e0e5",
    "execution": {
     "iopub.execute_input": "2023-01-06T20:03:09.059860Z",
     "iopub.status.busy": "2023-01-06T20:03:09.059363Z",
     "iopub.status.idle": "2023-01-06T20:03:12.124346Z",
     "shell.execute_reply": "2023-01-06T20:03:12.123042Z"
    },
    "papermill": {
     "duration": 3.072296,
     "end_time": "2023-01-06T20:03:12.127153",
     "exception": false,
     "start_time": "2023-01-06T20:03:09.054857",
     "status": "completed"
    },
    "tags": []
   },
   "outputs": [
    {
     "name": "stdout",
     "output_type": "stream",
     "text": [
      "Best parameters for Boosted forest:  {'n_estimators': 50}\n",
      "Accuracy:  0.8435754189944135\n",
      "Accuracy of Boosted forest classifier:  0.8048064611444893\n"
     ]
    }
   ],
   "source": [
    "import pandas as pd\n",
    "from sklearn.ensemble import GradientBoostingClassifier\n",
    "from sklearn.model_selection import train_test_split, cross_val_score, GridSearchCV\n",
    "from sklearn.metrics import accuracy_score\n",
    "from sklearn.linear_model import LogisticRegression\n",
    "from sklearn.svm import SVC\n",
    "from sklearn.ensemble import VotingClassifier\n",
    "from sklearn.impute import SimpleImputer\n",
    "from sklearn.preprocessing import StandardScaler\n",
    "\n",
    "# Read in the training and test sets\n",
    "train_df = pd.read_csv('/kaggle/input/titanic/train.csv')\n",
    "test_df = pd.read_csv('/kaggle/input/titanic/test.csv')\n",
    "\n",
    "###################################### Preprocess the data ###################################################################\n",
    "# Identify most relevant features\n",
    "# You can use techniques like feature importance or correlation analysis to help you identify the most important features\n",
    "relevant_features = ['Pclass', 'Sex', 'Age', 'SibSp', 'Parch', 'Fare', 'Embarked']\n",
    "\n",
    "# Handle missing values\n",
    "imputer = SimpleImputer(strategy='most_frequent')\n",
    "train_df[relevant_features] = imputer.fit_transform(train_df[relevant_features])\n",
    "test_df[relevant_features] = imputer.transform(test_df[relevant_features])\n",
    "\n",
    "# Encode categorical variables as numeric\n",
    "train_df['Sex'] = train_df['Sex'].map({'male': 0, 'female': 1})\n",
    "test_df['Sex'] = test_df['Sex'].map({'male': 0, 'female': 1})\n",
    "train_df['Embarked'] = train_df['Embarked'].map({'S': 0, 'C': 1, 'Q': 2})\n",
    "test_df['Embarked'] = test_df['Embarked'].map({'S': 0, 'C': 1, 'Q': 2})\n",
    "\n",
    "# Transform skewed or non-normal features\n",
    "# Instead of normalizing all of the numeric features, you could try using techniques like log transformation or Box-Cox transformation to make the distribution of a feature more normal\n",
    "scaler = StandardScaler()\n",
    "train_df[relevant_features] = scaler.fit_transform(train_df[relevant_features])\n",
    "test_df[relevant_features] = scaler.transform(test_df[relevant_features])\n",
    "\n",
    "# Split the data into features (X) and labels (y)\n",
    "X_train = train_df[relevant_features]\n",
    "y_train = train_df['Survived']\n",
    "X_test = test_df[relevant_features]\n",
    "\n",
    "# Split the data into training and validation sets\n",
    "X_train, X_val, y_train, y_val = train_test_split(X_train, y_train, test_size=0.2, random_state=33)\n",
    "\n",
    "\n",
    "############################################## Train the model ################################################################\n",
    "bTree = GradientBoostingClassifier(min_samples_split=10)\n",
    "\n",
    "model = VotingClassifier(estimators=[('dt', bTree)])\n",
    "model.fit(X_train, y_train)\n",
    "\n",
    "\n",
    "# Fine-tune the model\n",
    "param_grid = {'n_estimators': [50, 100, 200]}\n",
    "grid_search = GridSearchCV(bTree, param_grid, cv=5)\n",
    "grid_search.fit(X_train, y_train)\n",
    "best_bTree = grid_search.best_estimator_\n",
    "print(\"Best parameters for Boosted forest: \", grid_search.best_params_)\n",
    "\n",
    "\n",
    "model = VotingClassifier(estimators=[('dt', best_bTree)])\n",
    "model.fit(X_train, y_train)\n",
    "\n",
    "# Evaluate the fine-tuned model\n",
    "y_pred = model.predict(X_val)\n",
    "accuracy = accuracy_score(y_val, y_pred)\n",
    "print(\"Accuracy: \", accuracy)\n",
    "\n",
    "# Evaluate the bTree classifier\n",
    "scores = cross_val_score(bTree, X_train, y_train, cv=5)\n",
    "print(\"Accuracy of Boosted forest classifier: \", scores.mean())\n",
    "\n",
    "# Make predictions on the test set\n",
    "y_pred = model.predict(X_test)\n",
    "\n",
    "# Save the predictions to a CSV file\n",
    "output = pd.DataFrame({'PassengerId': test_df['PassengerId'], 'Survived': y_pred})\n",
    "output.to_csv('submission.csv', index=False)"
   ]
  }
 ],
 "metadata": {
  "kernelspec": {
   "display_name": "Python 3",
   "language": "python",
   "name": "python3"
  },
  "language_info": {
   "codemirror_mode": {
    "name": "ipython",
    "version": 3
   },
   "file_extension": ".py",
   "mimetype": "text/x-python",
   "name": "python",
   "nbconvert_exporter": "python",
   "pygments_lexer": "ipython3",
   "version": "3.7.12"
  },
  "papermill": {
   "default_parameters": {},
   "duration": 11.511813,
   "end_time": "2023-01-06T20:03:12.951778",
   "environment_variables": {},
   "exception": null,
   "input_path": "__notebook__.ipynb",
   "output_path": "__notebook__.ipynb",
   "parameters": {},
   "start_time": "2023-01-06T20:03:01.439965",
   "version": "2.3.4"
  }
 },
 "nbformat": 4,
 "nbformat_minor": 5
}
