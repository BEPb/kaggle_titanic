{
 "cells": [
  {
   "cell_type": "markdown",
   "id": "1d87209d",
   "metadata": {
    "papermill": {
     "duration": 0.002604,
     "end_time": "2023-01-08T16:14:56.355997",
     "exception": false,
     "start_time": "2023-01-08T16:14:56.353393",
     "status": "completed"
    },
    "tags": []
   },
   "source": [
    "![](https://i.postimg.cc/xj3ZBDrL/1664241222-12-drikus-club-p-gibel-titanika-data-krasivo-20.jpg)"
   ]
  },
  {
   "cell_type": "code",
   "execution_count": 1,
   "id": "d704fbd6",
   "metadata": {
    "_cell_guid": "b1076dfc-b9ad-4769-8c92-a6c4dae69d19",
    "_uuid": "8f2839f25d086af736a60e9eeb907d3b93b6e0e5",
    "execution": {
     "iopub.execute_input": "2023-01-08T16:14:56.361542Z",
     "iopub.status.busy": "2023-01-08T16:14:56.361116Z",
     "iopub.status.idle": "2023-01-08T16:14:57.814947Z",
     "shell.execute_reply": "2023-01-08T16:14:57.813941Z"
    },
    "papermill": {
     "duration": 1.459708,
     "end_time": "2023-01-08T16:14:57.817526",
     "exception": false,
     "start_time": "2023-01-08T16:14:56.357818",
     "status": "completed"
    },
    "tags": []
   },
   "outputs": [
    {
     "name": "stdout",
     "output_type": "stream",
     "text": [
      "Best parameters for logistic regression:  {'C': 0.01}\n",
      "Accuracy:  0.8044692737430168\n",
      "Accuracy of logistic regression classifier:  0.7977445090121147\n"
     ]
    }
   ],
   "source": [
    "import pandas as pd\n",
    "from sklearn.model_selection import train_test_split, cross_val_score, GridSearchCV\n",
    "from sklearn.metrics import accuracy_score\n",
    "from sklearn.linear_model import LogisticRegression\n",
    "from sklearn.ensemble import VotingClassifier\n",
    "from sklearn.impute import SimpleImputer\n",
    "from sklearn.preprocessing import StandardScaler\n",
    "\n",
    "# Read in the training and test sets\n",
    "train_df = pd.read_csv('/kaggle/input/titanic/train.csv')\n",
    "test_df = pd.read_csv('/kaggle/input/titanic/test.csv')\n",
    "\n",
    "###################################### Preprocess the data ###################################################################\n",
    "# Identify most relevant features\n",
    "# You can use techniques like feature importance or correlation analysis to help you identify the most important features\n",
    "relevant_features = ['Pclass', 'Sex', 'Age', 'SibSp', 'Parch', 'Fare', 'Embarked']\n",
    "\n",
    "# Handle missing values\n",
    "imputer = SimpleImputer(strategy='most_frequent')\n",
    "train_df[relevant_features] = imputer.fit_transform(train_df[relevant_features])\n",
    "test_df[relevant_features] = imputer.transform(test_df[relevant_features])\n",
    "\n",
    "# Encode categorical variables as numeric\n",
    "train_df['Sex'] = train_df['Sex'].map({'male': 0, 'female': 1})\n",
    "test_df['Sex'] = test_df['Sex'].map({'male': 0, 'female': 1})\n",
    "train_df['Embarked'] = train_df['Embarked'].map({'S': 0, 'C': 1, 'Q': 2})\n",
    "test_df['Embarked'] = test_df['Embarked'].map({'S': 0, 'C': 1, 'Q': 2})\n",
    "\n",
    "# Transform skewed or non-normal features\n",
    "# Instead of normalizing all of the numeric features, you could try using techniques like log transformation or Box-Cox transformation to make the distribution of a feature more normal\n",
    "scaler = StandardScaler()\n",
    "train_df[relevant_features] = scaler.fit_transform(train_df[relevant_features])\n",
    "test_df[relevant_features] = scaler.transform(test_df[relevant_features])\n",
    "\n",
    "# Split the data into features (X) and labels (y)\n",
    "X_train = train_df[relevant_features]\n",
    "y_train = train_df['Survived']\n",
    "X_test = test_df[relevant_features]\n",
    "\n",
    "# Split the data into training and validation sets\n",
    "X_train, X_val, y_train, y_val = train_test_split(X_train, y_train, test_size=0.2, random_state=33)\n",
    "\n",
    "\n",
    "############################################## Train the model ################################################################\n",
    "log_reg = LogisticRegression()\n",
    "model = VotingClassifier(estimators=[('lr', log_reg)])\n",
    "model.fit(X_train, y_train)\n",
    "\n",
    "\n",
    "param_grid = {'C': [0.001, 0.01, 0.1, 1, 10]}\n",
    "grid_search = GridSearchCV(log_reg, param_grid, cv=5)\n",
    "grid_search.fit(X_train, y_train)\n",
    "best_log_reg = grid_search.best_estimator_\n",
    "print(\"Best parameters for logistic regression: \", grid_search.best_params_)\n",
    "\n",
    "\n",
    "model = VotingClassifier(estimators=[('lr', best_log_reg)])\n",
    "model.fit(X_train, y_train)\n",
    "\n",
    "# Evaluate the fine-tuned model\n",
    "y_pred = model.predict(X_val)\n",
    "accuracy = accuracy_score(y_val, y_pred)\n",
    "print(\"Accuracy: \", accuracy)\n",
    "\n",
    "# Evaluate the logistic regression classifier\n",
    "scores = cross_val_score(log_reg, X_train, y_train, cv=5)\n",
    "print(\"Accuracy of logistic regression classifier: \", scores.mean())\n",
    "\n",
    "\n",
    "# Make predictions on the test set\n",
    "y_pred = model.predict(X_test)\n",
    "\n",
    "# Save the predictions to a CSV file\n",
    "output = pd.DataFrame({'PassengerId': test_df['PassengerId'], 'Survived': y_pred})\n",
    "output.to_csv('submission.csv', index=False)"
   ]
  },
  {
   "cell_type": "markdown",
   "id": "8da49728",
   "metadata": {
    "papermill": {
     "duration": 0.001566,
     "end_time": "2023-01-08T16:14:57.821025",
     "exception": false,
     "start_time": "2023-01-08T16:14:57.819459",
     "status": "completed"
    },
    "tags": []
   },
   "source": [
    "### If you liked this core, you can also check out my other [works](https://www.kaggle.com/marinchenko/notebooks) and [databases](https://www.kaggle.com/marinchenko/datasets).\n",
    "#### I am looking for friends to develop as a machine learning specialist. \n",
    "#### Open to dialogue and criticism. \n",
    "### Thank you for your time!"
   ]
  }
 ],
 "metadata": {
  "kernelspec": {
   "display_name": "Python 3",
   "language": "python",
   "name": "python3"
  },
  "language_info": {
   "codemirror_mode": {
    "name": "ipython",
    "version": 3
   },
   "file_extension": ".py",
   "mimetype": "text/x-python",
   "name": "python",
   "nbconvert_exporter": "python",
   "pygments_lexer": "ipython3",
   "version": "3.7.12"
  },
  "papermill": {
   "default_parameters": {},
   "duration": 10.244191,
   "end_time": "2023-01-08T16:14:58.544356",
   "environment_variables": {},
   "exception": null,
   "input_path": "__notebook__.ipynb",
   "output_path": "__notebook__.ipynb",
   "parameters": {},
   "start_time": "2023-01-08T16:14:48.300165",
   "version": "2.3.4"
  }
 },
 "nbformat": 4,
 "nbformat_minor": 5
}
